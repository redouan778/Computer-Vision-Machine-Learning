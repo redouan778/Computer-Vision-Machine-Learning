{
 "cells": [
  {
   "cell_type": "code",
   "execution_count": 1,
   "id": "c8d2961e",
   "metadata": {},
   "outputs": [],
   "source": [
    "%matplotlib inline\n",
    "import matplotlib.pyplot as plt\n",
    "import pandas as pd\n",
    "import numpy as np\n",
    "from sklearn.model_selection import train_test_split"
   ]
  },
  {
   "cell_type": "code",
   "execution_count": 2,
   "id": "46b2a20d",
   "metadata": {
    "scrolled": false
   },
   "outputs": [
    {
     "data": {
      "text/html": [
       "<div>\n",
       "<style scoped>\n",
       "    .dataframe tbody tr th:only-of-type {\n",
       "        vertical-align: middle;\n",
       "    }\n",
       "\n",
       "    .dataframe tbody tr th {\n",
       "        vertical-align: top;\n",
       "    }\n",
       "\n",
       "    .dataframe thead th {\n",
       "        text-align: right;\n",
       "    }\n",
       "</style>\n",
       "<table border=\"1\" class=\"dataframe\">\n",
       "  <thead>\n",
       "    <tr style=\"text-align: right;\">\n",
       "      <th></th>\n",
       "      <th>TV</th>\n",
       "      <th>Sales</th>\n",
       "    </tr>\n",
       "  </thead>\n",
       "  <tbody>\n",
       "    <tr>\n",
       "      <th>0</th>\n",
       "      <td>230.1</td>\n",
       "      <td>22.1</td>\n",
       "    </tr>\n",
       "    <tr>\n",
       "      <th>1</th>\n",
       "      <td>44.5</td>\n",
       "      <td>10.4</td>\n",
       "    </tr>\n",
       "    <tr>\n",
       "      <th>2</th>\n",
       "      <td>17.2</td>\n",
       "      <td>9.3</td>\n",
       "    </tr>\n",
       "    <tr>\n",
       "      <th>3</th>\n",
       "      <td>151.5</td>\n",
       "      <td>18.5</td>\n",
       "    </tr>\n",
       "    <tr>\n",
       "      <th>4</th>\n",
       "      <td>180.8</td>\n",
       "      <td>12.9</td>\n",
       "    </tr>\n",
       "  </tbody>\n",
       "</table>\n",
       "</div>"
      ],
      "text/plain": [
       "      TV  Sales\n",
       "0  230.1   22.1\n",
       "1   44.5   10.4\n",
       "2   17.2    9.3\n",
       "3  151.5   18.5\n",
       "4  180.8   12.9"
      ]
     },
     "execution_count": 2,
     "metadata": {},
     "output_type": "execute_result"
    }
   ],
   "source": [
    "df = pd.read_csv('../data/tvmarketing.csv')\n",
    "df.head()"
   ]
  },
  {
   "cell_type": "code",
   "execution_count": 3,
   "id": "b1b7a356",
   "metadata": {
    "scrolled": true
   },
   "outputs": [
    {
     "data": {
      "text/plain": [
       "<AxesSubplot:xlabel='TV', ylabel='Sales'>"
      ]
     },
     "execution_count": 3,
     "metadata": {},
     "output_type": "execute_result"
    },
    {
     "data": {
      "image/png": "[encoded data removed]",
      "text/plain": [
       "<Figure size 432x288 with 1 Axes>"
      ]
     },
     "metadata": {
      "needs_background": "light"
     },
     "output_type": "display_data"
    }
   ],
   "source": [
    "df.plot(kind='scatter',\n",
    "        x='TV',\n",
    "        y='Sales')"
   ]
  },
  {
   "cell_type": "markdown",
   "id": "d9f6d61c",
   "metadata": {},
   "source": [
    "Split data into Test and Training sets"
   ]
  },
  {
   "cell_type": "code",
   "execution_count": 4,
   "id": "8b0d8dd8",
   "metadata": {},
   "outputs": [
    {
     "data": {
      "text/plain": [
       "<function sklearn.model_selection._split.train_test_split(*arrays, test_size=None, train_size=None, random_state=None, shuffle=True, stratify=None)>"
      ]
     },
     "execution_count": 4,
     "metadata": {},
     "output_type": "execute_result"
    }
   ],
   "source": [
    "X = df['TV']\n",
    "y = df['Sales']\n",
    "\n",
    "X_train, X_test, y_train, y_test = train_test_split(X, y, train_size=0.7 , random_state=0000)\n",
    "train_test_split"
   ]
  },
  {
   "cell_type": "markdown",
   "id": "1323bfcd",
   "metadata": {},
   "source": [
    "# Linear Regression"
   ]
  },
  {
   "cell_type": "code",
   "execution_count": 5,
   "id": "c1146e27",
   "metadata": {},
   "outputs": [],
   "source": [
    "from tensorflow.keras.models import Sequential\n",
    "from tensorflow.keras.layers import Dense\n",
    "from tensorflow.keras.optimizers import Adam, SGD"
   ]
  },
  {
   "cell_type": "markdown",
   "id": "160e7dd2",
   "metadata": {},
   "source": [
    "Create model with 1 input and 1 output"
   ]
  },
  {
   "cell_type": "code",
   "execution_count": 6,
   "id": "faa5e4c2",
   "metadata": {},
   "outputs": [],
   "source": [
    "model = Sequential()\n",
    "model.add(Dense(1, input_shape=(1,)))"
   ]
  },
  {
   "cell_type": "code",
   "execution_count": 7,
   "id": "efebdd26",
   "metadata": {},
   "outputs": [
    {
     "name": "stdout",
     "output_type": "stream",
     "text": [
      "Model: \"sequential\"\n",
      "_________________________________________________________________\n",
      "Layer (type)                 Output Shape              Param #   \n",
      "=================================================================\n",
      "dense (Dense)                (None, 1)                 2         \n",
      "=================================================================\n",
      "Total params: 2\n",
      "Trainable params: 2\n",
      "Non-trainable params: 0\n",
      "_________________________________________________________________\n"
     ]
    }
   ],
   "source": [
    "model.summary()"
   ]
  },
  {
   "cell_type": "code",
   "execution_count": 8,
   "id": "ffbd7e48",
   "metadata": {},
   "outputs": [],
   "source": [
    "model.compile(Adam(learning_rate=0.8), 'mean_squared_error')"
   ]
  },
  {
   "cell_type": "code",
   "execution_count": 9,
   "id": "0ef5143c",
   "metadata": {
    "scrolled": true
   },
   "outputs": [
    {
     "name": "stdout",
     "output_type": "stream",
     "text": [
      "Epoch 1/100\n",
      "5/5 [==============================] - 0s 620us/step - loss: 7895.0962\n",
      "Epoch 2/100\n",
      "5/5 [==============================] - 0s 614us/step - loss: 2760.9409\n",
      "Epoch 3/100\n",
      "5/5 [==============================] - 0s 620us/step - loss: 1578.4719\n",
      "Epoch 4/100\n",
      "5/5 [==============================] - 0s 620us/step - loss: 831.1886\n",
      "Epoch 5/100\n",
      "5/5 [==============================] - 0s 620us/step - loss: 429.8788\n",
      "Epoch 6/100\n",
      "5/5 [==============================] - 0s 496us/step - loss: 282.7966\n",
      "Epoch 7/100\n",
      "5/5 [==============================] - 0s 621us/step - loss: 214.6975\n",
      "Epoch 8/100\n",
      "5/5 [==============================] - 0s 619us/step - loss: 141.2137\n",
      "Epoch 9/100\n",
      "5/5 [==============================] - 0s 868us/step - loss: 99.9440\n",
      "Epoch 10/100\n",
      "5/5 [==============================] - 0s 620us/step - loss: 77.4297\n",
      "Epoch 11/100\n",
      "5/5 [==============================] - 0s 620us/step - loss: 53.7147\n",
      "Epoch 12/100\n",
      "5/5 [==============================] - 0s 744us/step - loss: 30.8796\n",
      "Epoch 13/100\n",
      "5/5 [==============================] - 0s 868us/step - loss: 29.1713\n",
      "Epoch 14/100\n",
      "5/5 [==============================] - 0s 620us/step - loss: 25.4160\n",
      "Epoch 15/100\n",
      "5/5 [==============================] - 0s 744us/step - loss: 31.7771\n",
      "Epoch 16/100\n",
      "5/5 [==============================] - 0s 744us/step - loss: 33.6862\n",
      "Epoch 17/100\n",
      "5/5 [==============================] - 0s 620us/step - loss: 29.0547\n",
      "Epoch 18/100\n",
      "5/5 [==============================] - 0s 620us/step - loss: 21.6692\n",
      "Epoch 19/100\n",
      "5/5 [==============================] - 0s 620us/step - loss: 16.7571\n",
      "Epoch 20/100\n",
      "5/5 [==============================] - 0s 620us/step - loss: 16.3095\n",
      "Epoch 21/100\n",
      "5/5 [==============================] - 0s 496us/step - loss: 18.3490\n",
      "Epoch 22/100\n",
      "5/5 [==============================] - 0s 620us/step - loss: 16.7339\n",
      "Epoch 23/100\n",
      "5/5 [==============================] - 0s 620us/step - loss: 15.2369\n",
      "Epoch 24/100\n",
      "5/5 [==============================] - 0s 496us/step - loss: 15.4768\n",
      "Epoch 25/100\n",
      "5/5 [==============================] - 0s 620us/step - loss: 16.1238\n",
      "Epoch 26/100\n",
      "5/5 [==============================] - 0s 496us/step - loss: 14.9455\n",
      "Epoch 27/100\n",
      "5/5 [==============================] - 0s 496us/step - loss: 20.4116\n",
      "Epoch 28/100\n",
      "5/5 [==============================] - 0s 496us/step - loss: 13.9589\n",
      "Epoch 29/100\n",
      "5/5 [==============================] - 0s 496us/step - loss: 13.9090\n",
      "Epoch 30/100\n",
      "5/5 [==============================] - 0s 496us/step - loss: 16.3505\n",
      "Epoch 31/100\n",
      "5/5 [==============================] - 0s 620us/step - loss: 18.8711\n",
      "Epoch 32/100\n",
      "5/5 [==============================] - 0s 620us/step - loss: 24.0163\n",
      "Epoch 33/100\n",
      "5/5 [==============================] - 0s 620us/step - loss: 16.3022\n",
      "Epoch 34/100\n",
      "5/5 [==============================] - 0s 620us/step - loss: 15.2715\n",
      "Epoch 35/100\n",
      "5/5 [==============================] - 0s 620us/step - loss: 12.7506\n",
      "Epoch 36/100\n",
      "5/5 [==============================] - 0s 620us/step - loss: 12.6473\n",
      "Epoch 37/100\n",
      "5/5 [==============================] - 0s 496us/step - loss: 25.4612\n",
      "Epoch 38/100\n",
      "5/5 [==============================] - 0s 496us/step - loss: 17.2175\n",
      "Epoch 39/100\n",
      "5/5 [==============================] - 0s 620us/step - loss: 15.5689\n",
      "Epoch 40/100\n",
      "5/5 [==============================] - 0s 496us/step - loss: 15.5143\n",
      "Epoch 41/100\n",
      "5/5 [==============================] - 0s 620us/step - loss: 18.2642\n",
      "Epoch 42/100\n",
      "5/5 [==============================] - 0s 620us/step - loss: 20.6150\n",
      "Epoch 43/100\n",
      "5/5 [==============================] - 0s 620us/step - loss: 23.9269\n",
      "Epoch 44/100\n",
      "5/5 [==============================] - 0s 496us/step - loss: 32.2913\n",
      "Epoch 45/100\n",
      "5/5 [==============================] - 0s 620us/step - loss: 17.4851\n",
      "Epoch 46/100\n",
      "5/5 [==============================] - 0s 620us/step - loss: 20.4881\n",
      "Epoch 47/100\n",
      "5/5 [==============================] - 0s 620us/step - loss: 15.7260\n",
      "Epoch 48/100\n",
      "5/5 [==============================] - 0s 620us/step - loss: 16.6482\n",
      "Epoch 49/100\n",
      "5/5 [==============================] - 0s 496us/step - loss: 13.8736\n",
      "Epoch 50/100\n",
      "5/5 [==============================] - 0s 496us/step - loss: 19.2621\n",
      "Epoch 51/100\n",
      "5/5 [==============================] - 0s 620us/step - loss: 17.4781\n",
      "Epoch 52/100\n",
      "5/5 [==============================] - 0s 620us/step - loss: 15.3429\n",
      "Epoch 53/100\n",
      "5/5 [==============================] - 0s 496us/step - loss: 15.5846\n",
      "Epoch 54/100\n",
      "5/5 [==============================] - 0s 620us/step - loss: 22.6217\n",
      "Epoch 55/100\n",
      "5/5 [==============================] - 0s 496us/step - loss: 27.9069\n",
      "Epoch 56/100\n",
      "5/5 [==============================] - 0s 496us/step - loss: 25.0104\n",
      "Epoch 57/100\n",
      "5/5 [==============================] - 0s 495us/step - loss: 25.6056\n",
      "Epoch 58/100\n",
      "5/5 [==============================] - 0s 496us/step - loss: 16.1478\n",
      "Epoch 59/100\n",
      "5/5 [==============================] - 0s 496us/step - loss: 18.8520\n",
      "Epoch 60/100\n",
      "5/5 [==============================] - 0s 496us/step - loss: 18.7301\n",
      "Epoch 61/100\n",
      "5/5 [==============================] - 0s 620us/step - loss: 18.6623\n",
      "Epoch 62/100\n",
      "5/5 [==============================] - 0s 620us/step - loss: 14.1521\n",
      "Epoch 63/100\n",
      "5/5 [==============================] - 0s 496us/step - loss: 12.2309\n",
      "Epoch 64/100\n",
      "5/5 [==============================] - 0s 620us/step - loss: 13.8918\n",
      "Epoch 65/100\n",
      "5/5 [==============================] - 0s 620us/step - loss: 17.9875\n",
      "Epoch 66/100\n",
      "5/5 [==============================] - 0s 496us/step - loss: 14.8964\n",
      "Epoch 67/100\n",
      "5/5 [==============================] - 0s 620us/step - loss: 12.2578\n",
      "Epoch 68/100\n",
      "5/5 [==============================] - 0s 496us/step - loss: 14.6810\n",
      "Epoch 69/100\n",
      "5/5 [==============================] - 0s 620us/step - loss: 12.1302\n",
      "Epoch 70/100\n",
      "5/5 [==============================] - 0s 620us/step - loss: 13.7750\n",
      "Epoch 71/100\n",
      "5/5 [==============================] - 0s 496us/step - loss: 12.4166\n",
      "Epoch 72/100\n",
      "5/5 [==============================] - 0s 496us/step - loss: 18.7570\n",
      "Epoch 73/100\n",
      "5/5 [==============================] - 0s 496us/step - loss: 17.3758\n",
      "Epoch 74/100\n",
      "5/5 [==============================] - 0s 620us/step - loss: 11.7625\n",
      "Epoch 75/100\n",
      "5/5 [==============================] - 0s 496us/step - loss: 16.5865\n",
      "Epoch 76/100\n",
      "5/5 [==============================] - 0s 744us/step - loss: 14.3084\n",
      "Epoch 77/100\n",
      "5/5 [==============================] - 0s 496us/step - loss: 21.3960\n",
      "Epoch 78/100\n",
      "5/5 [==============================] - 0s 620us/step - loss: 16.4480\n",
      "Epoch 79/100\n",
      "5/5 [==============================] - 0s 496us/step - loss: 20.4886\n",
      "Epoch 80/100\n",
      "5/5 [==============================] - 0s 496us/step - loss: 12.3356\n",
      "Epoch 81/100\n",
      "5/5 [==============================] - 0s 487us/step - loss: 15.3553\n",
      "Epoch 82/100\n",
      "5/5 [==============================] - 0s 620us/step - loss: 22.5800\n",
      "Epoch 83/100\n",
      "5/5 [==============================] - 0s 496us/step - loss: 17.6634\n",
      "Epoch 84/100\n",
      "5/5 [==============================] - 0s 744us/step - loss: 13.9902\n",
      "Epoch 85/100\n",
      "5/5 [==============================] - 0s 620us/step - loss: 19.7986\n",
      "Epoch 86/100\n",
      "5/5 [==============================] - 0s 620us/step - loss: 24.6407\n",
      "Epoch 87/100\n",
      "5/5 [==============================] - 0s 620us/step - loss: 42.2684\n",
      "Epoch 88/100\n",
      "5/5 [==============================] - 0s 620us/step - loss: 21.6990\n",
      "Epoch 89/100\n",
      "5/5 [==============================] - 0s 496us/step - loss: 19.6584\n",
      "Epoch 90/100\n",
      "5/5 [==============================] - 0s 620us/step - loss: 16.3066\n",
      "Epoch 91/100\n",
      "5/5 [==============================] - 0s 496us/step - loss: 14.6926\n",
      "Epoch 92/100\n",
      "5/5 [==============================] - 0s 497us/step - loss: 14.4658\n",
      "Epoch 93/100\n",
      "5/5 [==============================] - 0s 496us/step - loss: 25.3872\n",
      "Epoch 94/100\n",
      "5/5 [==============================] - 0s 496us/step - loss: 14.2576\n",
      "Epoch 95/100\n",
      "5/5 [==============================] - 0s 620us/step - loss: 17.1355\n",
      "Epoch 96/100\n",
      "5/5 [==============================] - 0s 620us/step - loss: 14.6621\n",
      "Epoch 97/100\n",
      "5/5 [==============================] - 0s 744us/step - loss: 24.4558\n",
      "Epoch 98/100\n",
      "5/5 [==============================] - 0s 496us/step - loss: 21.5187\n",
      "Epoch 99/100\n",
      "5/5 [==============================] - 0s 496us/step - loss: 16.5057\n",
      "Epoch 100/100\n"
     ]
    },
    {
     "name": "stdout",
     "output_type": "stream",
     "text": [
      "1/5 [=====>........................] - ETA: 0s - loss: 13.0405\b\b\b\b\b\b\b\b\b\b\b\b\b\b\b\b\b\b\b\b\b\b\b\b\b\b\b\b\b\b\b\b\b\b\b\b\b\b\b\b\b\b\b\b\b\b\b\b\b\b\b\b\b\b\b\b\b\b\b\b\b\b\r",
      "5/5 [==============================] - 0s 496us/step - loss: 21.1199\n"
     ]
    },
    {
     "data": {
      "text/plain": [
       "<tensorflow.python.keras.callbacks.History at 0x19ad63cc348>"
      ]
     },
     "execution_count": 9,
     "metadata": {},
     "output_type": "execute_result"
    }
   ],
   "source": [
    "model.fit(X_train, y_train, epochs=100)"
   ]
  },
  {
   "cell_type": "code",
   "execution_count": 10,
   "id": "d73cda64",
   "metadata": {},
   "outputs": [],
   "source": [
    "y_pred = model.predict(X_test)"
   ]
  },
  {
   "cell_type": "code",
   "execution_count": 11,
   "id": "9a3e6930",
   "metadata": {},
   "outputs": [
    {
     "data": {
      "text/plain": [
       "[<matplotlib.lines.Line2D at 0x19ad652aa88>]"
      ]
     },
     "execution_count": 11,
     "metadata": {},
     "output_type": "execute_result"
    },
    {
     "data": {
      "image/png": "[encoded data removed]",
      "text/plain": [
       "<Figure size 432x288 with 1 Axes>"
      ]
     },
     "metadata": {
      "needs_background": "light"
     },
     "output_type": "display_data"
    }
   ],
   "source": [
    "df.plot(kind='scatter',\n",
    "        x='TV',\n",
    "        y='Sales',\n",
    "        title='Weight and Height in adults')\n",
    "plt.plot(X_test, y_pred, color='red')"
   ]
  },
  {
   "cell_type": "code",
   "execution_count": null,
   "id": "981d3fb8",
   "metadata": {},
   "outputs": [],
   "source": []
  }
 ],
 "metadata": {
  "kernelspec": {
   "display_name": "Python 3",
   "language": "python",
   "name": "python3"
  },
  "language_info": {
   "codemirror_mode": {
    "name": "ipython",
    "version": 3
   },
   "file_extension": ".py",
   "mimetype": "text/x-python",
   "name": "python",
   "nbconvert_exporter": "python",
   "pygments_lexer": "ipython3",
   "version": "3.7.10"
  }
 },
 "nbformat": 4,
 "nbformat_minor": 5
}
